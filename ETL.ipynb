{
 "cells": [
  {
   "cell_type": "code",
   "execution_count": null,
   "id": "11fab202-7c26-4423-ade3-92794a42869c",
   "metadata": {},
   "outputs": [],
   "source": [
    "from pyspark import *\n",
    "from pyspark.sql import *\n",
    "from pyspark.sql.types import *\n",
    "from pyspark.sql.functions import *"
   ]
  },
  {
   "cell_type": "code",
   "execution_count": null,
   "id": "bcb24b8b-9bd2-414e-a8ad-ebb9d7038cf4",
   "metadata": {},
   "outputs": [],
   "source": [
    "spark = (\n",
    "        SparkSession\n",
    "        .builder\n",
    "        .appName(\"Pyspark_Kafka\")\n",
    "        .config(\"spark.streaming.stopGracefullyOnShutdown\" ,True)\n",
    "        .config(\"spark.jars.packages\" ,\"org.apache.spark:spark-sql-kafka-0-10_2.12:3.3.0\")\n",
    "        .config('spark.jars', 'config/postgresql-42.7.3.jar')\n",
    "        .config(\"spark.sql.shuffle.partitions\" ,4)\n",
    "        .master(\"local[*]\")\n",
    "        .getOrCreate()\n",
    "    )"
   ]
  },
  {
   "cell_type": "code",
   "execution_count": null,
   "id": "679ec5ce-0ed8-48a7-af61-29e708d10df1",
   "metadata": {},
   "outputs": [],
   "source": [
    "spark"
   ]
  },
  {
   "cell_type": "code",
   "execution_count": null,
   "id": "3a9e6b61-8906-4247-8964-03bf3a887052",
   "metadata": {},
   "outputs": [],
   "source": [
    "data_df = (\n",
    "    spark\n",
    "    .read\n",
    "    .format(\"kafka\")\n",
    "    .option(\"kafka.bootstrap.servers\" , \"ed-kafka:29092\")\n",
    "    .option(\"subscribe\" ,\"real-time-pipeline\")\n",
    "    .option(\"startingOffsets\" ,\"latest\")\n",
    "    .load()\n",
    "    )"
   ]
  },
  {
   "cell_type": "code",
   "execution_count": null,
   "id": "8f480475-5c28-43e2-8341-e4e98f76ce00",
   "metadata": {},
   "outputs": [],
   "source": [
    "data_df.printSchema()"
   ]
  },
  {
   "cell_type": "code",
   "execution_count": null,
   "id": "2c3c88de-9760-40a8-9f7c-ca5b7208fd8c",
   "metadata": {},
   "outputs": [],
   "source": [
    "df_json = data_df.withColumn(\"data\" ,expr(\"cast(value as string)\"))"
   ]
  },
  {
   "cell_type": "code",
   "execution_count": null,
   "id": "083e4b09-a82f-4b0f-9599-9b9fbf7ff867",
   "metadata": {},
   "outputs": [],
   "source": [
    "schema = StructType([\n",
    "    StructField(\"transaction_id\", StringType(), True),\n",
    "    StructField(\"customer_data\", StructType([\n",
    "        StructField(\"customer_id\", IntegerType(), True),\n",
    "        StructField(\"customer_first_name\", StringType(), True),\n",
    "        StructField(\"customer_last_name\", StringType(), True),\n",
    "        StructField(\"customer_gender\", StringType(), True),\n",
    "        StructField(\"customer_country\", StringType(), True),\n",
    "        StructField(\"customer_email\", StringType(), True),\n",
    "        StructField(\"device_type\", StringType(), True),\n",
    "        StructField(\"customer_age\", IntegerType(), True)\n",
    "    ]), True),\n",
    "    StructField(\"product_data\", StructType([\n",
    "        StructField(\"product_id\", IntegerType(), True),\n",
    "        StructField(\"category\", StringType(), True),\n",
    "        StructField(\"product_name\", StringType(), True),\n",
    "        StructField(\"product_price\", DoubleType(), True)\n",
    "    ]), True),\n",
    "    StructField(\"timestamp\", StringType(), True),\n",
    "    StructField(\"payment_method\", StringType(), True),\n",
    "    StructField(\"quantity\", IntegerType(), True),\n",
    "    StructField(\"total_amount\", DoubleType(), True),\n",
    "    StructField(\"status\", StringType(), True)\n",
    "])"
   ]
  },
  {
   "cell_type": "code",
   "execution_count": null,
   "id": "e039ca04-b442-4d38-8d3e-9283e22a4819",
   "metadata": {},
   "outputs": [],
   "source": [
    "parsed_df = df_json.select(from_json(col(\"data\"), schema).alias(\"data\"))"
   ]
  },
  {
   "cell_type": "code",
   "execution_count": null,
   "id": "c58ce813-e15f-46ed-93f9-61009f18d547",
   "metadata": {},
   "outputs": [],
   "source": [
    "flattened_df = parsed_df.select(\n",
    "    col(\"data.transaction_id\"),\n",
    "    col(\"data.customer_data.customer_id\"),\n",
    "    col(\"data.customer_data.customer_first_name\"),\n",
    "    col(\"data.customer_data.customer_last_name\"),\n",
    "    col(\"data.customer_data.customer_gender\"),\n",
    "    col(\"data.customer_data.customer_country\"),\n",
    "    col(\"data.customer_data.customer_email\"),\n",
    "    col(\"data.customer_data.device_type\"),\n",
    "    col(\"data.customer_data.customer_age\"),\n",
    "    col(\"data.product_data.product_id\"),\n",
    "    col(\"data.product_data.category\"),\n",
    "    col(\"data.product_data.product_name\"),\n",
    "    col(\"data.product_data.product_price\"),\n",
    "    col(\"data.timestamp\"),\n",
    "    col(\"data.payment_method\"),\n",
    "    col(\"data.quantity\"),\n",
    "    col(\"data.total_amount\"),\n",
    "    col(\"data.status\")\n",
    ")"
   ]
  },
  {
   "cell_type": "code",
   "execution_count": null,
   "id": "649edf86-055f-4780-a7cd-c2c4b72a8e13",
   "metadata": {},
   "outputs": [],
   "source": [
    "from pyspark.sql import functions as F"
   ]
  },
  {
   "cell_type": "code",
   "execution_count": null,
   "id": "81e242bb-3e42-447a-9019-6aa66fdb438c",
   "metadata": {},
   "outputs": [],
   "source": [
    "flattened_df = flattened_df.withColumn(\"timestamp\",F.date_format(\"timestamp\", \"yyyy-MM-dd HH:mm:ss\"))"
   ]
  },
  {
   "cell_type": "markdown",
   "id": "34c11df7-15e9-494d-8552-584d96d78269",
   "metadata": {},
   "source": [
    "### Customer dimension table"
   ]
  },
  {
   "cell_type": "code",
   "execution_count": null,
   "id": "a4b51e18-8418-415e-8c06-fe5b81431500",
   "metadata": {},
   "outputs": [],
   "source": [
    "customer_dim = flattened_df.select(\"customer_id\" ,\"customer_first_name\" ,\"customer_last_name\" ,\"customer_gender\" ,\"customer_country\" \\\n",
    "                                  ,\"customer_email\" ,\"device_type\" ,\"customer_age\")"
   ]
  },
  {
   "cell_type": "code",
   "execution_count": null,
   "id": "7719ea66-a467-4748-8afe-34de373050ee",
   "metadata": {
    "tags": []
   },
   "outputs": [],
   "source": [
    "customer_dim.write \\\n",
    "    .mode('append') \\\n",
    "    .format(\"jdbc\") \\\n",
    "    .option(\"url\", 'jdbc:postgresql://localhost:5432/E-commerce') \\\n",
    "    .option('dbtable', 'customer_dim') \\\n",
    "    .option(\"driver\", \"org.postgresql.Driver\") \\\n",
    "    .option(\"user\", \"postgres\") \\\n",
    "    .option(\"password\", \"test1234\") \\\n",
    "    .save()"
   ]
  },
  {
   "cell_type": "markdown",
   "id": "612be023-9b51-4d3e-a762-8647b1d4ef35",
   "metadata": {},
   "source": [
    "### Date dimension table"
   ]
  },
  {
   "cell_type": "code",
   "execution_count": null,
   "id": "ccfab772-1c03-4ab7-bcb0-46ba25d5ffad",
   "metadata": {},
   "outputs": [],
   "source": [
    "date_dim = flattened_df.select(\n",
    "    F.col(\"timestamp\"),\n",
    "    F.dayofmonth(\"timestamp\").alias(\"day\"),\n",
    "    F.month(\"timestamp\").alias(\"month\"),\n",
    "    F.dayofweek(\"timestamp\").alias(\"Day of Week\"),\n",
    "    F.date_format(\"timestamp\", \"MMMM\").alias(\"Month Name\"),\n",
    "    F.weekofyear(\"timestamp\").alias(\"Week Number\"),\n",
    "    F.hour(\"timestamp\").alias(\"hours\"),\n",
    "    F.minute(\"timestamp\").alias(\"minutes\")\n",
    ")"
   ]
  },
  {
   "cell_type": "code",
   "execution_count": null,
   "id": "53fcf91a-5066-48d5-9578-6aed3fa470cd",
   "metadata": {
    "tags": []
   },
   "outputs": [],
   "source": [
    "date_dim.write \\\n",
    "    .mode('append') \\\n",
    "    .format(\"jdbc\") \\\n",
    "    .option(\"url\", 'jdbc:postgresql://localhost:5432/E-commerce') \\\n",
    "    .option('dbtable', 'date_dim') \\\n",
    "    .option(\"driver\", \"org.postgresql.Driver\") \\\n",
    "    .option(\"user\", \"postgres\") \\\n",
    "    .option(\"password\", \"test1234\") \\\n",
    "    .save()"
   ]
  },
  {
   "cell_type": "markdown",
   "id": "0fecb6de-3c07-45fc-ba52-d1ecacc180d9",
   "metadata": {},
   "source": [
    "### Product dimension table"
   ]
  },
  {
   "cell_type": "code",
   "execution_count": null,
   "id": "2cfddb11-4a85-4baa-b279-78bd701b49e5",
   "metadata": {},
   "outputs": [],
   "source": [
    "product_dim = flattened_df.select(\"product_id\" ,\"category\" ,\"product_name\" ,\"product_price\")"
   ]
  },
  {
   "cell_type": "code",
   "execution_count": null,
   "id": "934f227f-8dce-4537-bb42-d38148a91af1",
   "metadata": {},
   "outputs": [],
   "source": [
    "product_dim.write \\\n",
    "    .mode('append') \\\n",
    "    .format(\"jdbc\") \\\n",
    "    .option(\"url\", 'jdbc:postgresql://localhost:5432/E-commerce') \\\n",
    "    .option('dbtable', 'product_dim') \\\n",
    "    .option(\"driver\", \"org.postgresql.Driver\") \\\n",
    "    .option(\"user\", \"postgres\") \\\n",
    "    .option(\"password\", \"test1234\") \\\n",
    "    .save()"
   ]
  },
  {
   "cell_type": "markdown",
   "id": "8d9311a6-9ea9-4c05-8fe7-332d40d2f55d",
   "metadata": {},
   "source": [
    "### Fact dimension table"
   ]
  },
  {
   "cell_type": "code",
   "execution_count": null,
   "id": "233ccbc6-0f41-425d-b5ab-9b14b8e26101",
   "metadata": {},
   "outputs": [],
   "source": [
    "fact_table = flattened_df.select(\"transaction_id\" ,\"customer_id\" ,\"timestamp\" ,\"product_id\" ,\"payment_method\" ,\"quantity\" ,\"total_amount\" ,\"status\")"
   ]
  },
  {
   "cell_type": "code",
   "execution_count": null,
   "id": "7b8f63bd-990d-445a-957f-844bd4c20a2d",
   "metadata": {},
   "outputs": [],
   "source": [
    "fact_table.write \\\n",
    "    .mode('append') \\\n",
    "    .format(\"jdbc\") \\\n",
    "    .option(\"url\", 'jdbc:postgresql://localhost:5432/E-commerce') \\\n",
    "    .option('dbtable', 'fact_table') \\\n",
    "    .option(\"driver\", \"org.postgresql.Driver\") \\\n",
    "    .option(\"user\", \"postgres\") \\\n",
    "    .option(\"password\", \"test1234\") \\\n",
    "    .save()"
   ]
  },
  {
   "cell_type": "code",
   "execution_count": null,
   "id": "cf6501db-fe34-4040-98e9-72671b27baaa",
   "metadata": {},
   "outputs": [],
   "source": []
  }
 ],
 "metadata": {
  "kernelspec": {
   "display_name": "Python 3 (ipykernel)",
   "language": "python",
   "name": "python3"
  },
  "language_info": {
   "codemirror_mode": {
    "name": "ipython",
    "version": 3
   },
   "file_extension": ".py",
   "mimetype": "text/x-python",
   "name": "python",
   "nbconvert_exporter": "python",
   "pygments_lexer": "ipython3",
   "version": "3.10.6"
  }
 },
 "nbformat": 4,
 "nbformat_minor": 5
}
